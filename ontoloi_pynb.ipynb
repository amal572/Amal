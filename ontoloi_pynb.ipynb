{
  "cells": [
    {
      "cell_type": "markdown",
      "metadata": {
        "id": "view-in-github",
        "colab_type": "text"
      },
      "source": [
        "<a href=\"https://colab.research.google.com/github/amal572/Amal/blob/master/ontoloi_pynb.ipynb\" target=\"_parent\"><img src=\"https://colab.research.google.com/assets/colab-badge.svg\" alt=\"Open In Colab\"/></a>"
      ]
    },
    {
      "cell_type": "code",
      "execution_count": 1,
      "id": "d0e67db1",
      "metadata": {
        "colab": {
          "base_uri": "https://localhost:8080/"
        },
        "id": "d0e67db1",
        "outputId": "a130a413-316b-4602-ddca-7b1e3b0463d4"
      },
      "outputs": [
        {
          "output_type": "stream",
          "name": "stdout",
          "text": [
            "Looking in indexes: https://pypi.org/simple, https://us-python.pkg.dev/colab-wheels/public/simple/\n",
            "Collecting owlready2\n",
            "  Downloading Owlready2-0.38.tar.gz (25.4 MB)\n",
            "\u001b[K     |████████████████████████████████| 25.4 MB 1.4 MB/s \n",
            "\u001b[?25hBuilding wheels for collected packages: owlready2\n",
            "  Building wheel for owlready2 (setup.py) ... \u001b[?25l\u001b[?25hdone\n",
            "  Created wheel for owlready2: filename=Owlready2-0.38-cp37-cp37m-linux_x86_64.whl size=22127093 sha256=0b1f40c224719bbcddf829827b07add1598ce7344866501b5d43edf2ffa42d23\n",
            "  Stored in directory: /root/.cache/pip/wheels/ee/48/58/3ea20d69efcb97a26048fbfcce9332412077df80d4ae52365b\n",
            "Successfully built owlready2\n",
            "Installing collected packages: owlready2\n",
            "Successfully installed owlready2-0.38\n"
          ]
        }
      ],
      "source": [
        "!pip install owlready2"
      ]
    },
    {
      "cell_type": "code",
      "source": [
        "import spacy\n",
        "from spacy.lang.en import English\n",
        "import networkx as nx\n",
        "import matplotlib.pyplot as plt\n",
        "from owlready2 import *\n",
        "from sklearn.feature_extraction.text import TfidfVectorizer\n",
        "from sklearn.metrics.pairwise import cosine_similarity\n",
        "import pandas as pd\n",
        "import numpy as np"
      ],
      "metadata": {
        "id": "4G0doYGM9Dhd"
      },
      "id": "4G0doYGM9Dhd",
      "execution_count": 2,
      "outputs": []
    },
    {
      "cell_type": "code",
      "execution_count": 3,
      "id": "3fdd31f5",
      "metadata": {
        "id": "3fdd31f5"
      },
      "outputs": [],
      "source": [
        "per = get_ontology(\"perceptron.owl\").load()"
      ]
    },
    {
      "cell_type": "code",
      "execution_count": 4,
      "id": "b26504f1",
      "metadata": {
        "colab": {
          "base_uri": "https://localhost:8080/",
          "height": 36
        },
        "id": "b26504f1",
        "outputId": "32320359-d5fa-411c-a615-9cb0fdfda102"
      },
      "outputs": [
        {
          "output_type": "execute_result",
          "data": {
            "text/plain": [
              "'http://www.w3.org/ns/perceptron.owl#'"
            ],
            "application/vnd.google.colaboratory.intrinsic+json": {
              "type": "string"
            }
          },
          "metadata": {},
          "execution_count": 4
        }
      ],
      "source": [
        "per.base_iri"
      ]
    },
    {
      "cell_type": "code",
      "execution_count": 5,
      "id": "1bd6f250",
      "metadata": {
        "colab": {
          "base_uri": "https://localhost:8080/"
        },
        "id": "1bd6f250",
        "outputId": "5b2be49b-c093-46d2-f18c-c65ca9466a40"
      },
      "outputs": [
        {
          "output_type": "execute_result",
          "data": {
            "text/plain": [
              "[perceptron.Add,\n",
              " perceptron.Algorithm,\n",
              " perceptron.Dataset,\n",
              " perceptron.Derviation,\n",
              " perceptron.Div,\n",
              " perceptron.EarlyStop,\n",
              " perceptron.EvaluationMetric,\n",
              " perceptron.Feature,\n",
              " perceptron.FeedForward,\n",
              " perceptron.Formula,\n",
              " perceptron.Function,\n",
              " perceptron.HyperParameter,\n",
              " perceptron.Initializer,\n",
              " perceptron.Layer,\n",
              " perceptron.Limitation,\n",
              " perceptron.Logarithm,\n",
              " perceptron.Model,\n",
              " perceptron.Mult,\n",
              " perceptron.Operator,\n",
              " perceptron.OptimizationAlgorithm,\n",
              " perceptron.Optimizer,\n",
              " perceptron.Output,\n",
              " perceptron.Parameter,\n",
              " perceptron.Power,\n",
              " perceptron.Root,\n",
              " perceptron.Sigma,\n",
              " perceptron.Sub,\n",
              " perceptron.Task,\n",
              " perceptron.Validator,\n",
              " perceptron.Value,\n",
              " perceptron.input]"
            ]
          },
          "metadata": {},
          "execution_count": 5
        }
      ],
      "source": [
        "list(per.classes())"
      ]
    },
    {
      "cell_type": "code",
      "execution_count": 6,
      "id": "1d899258",
      "metadata": {
        "colab": {
          "base_uri": "https://localhost:8080/"
        },
        "id": "1d899258",
        "outputId": "61717130-6e36-4bc5-d3c2-d9739fdcba92"
      },
      "outputs": [
        {
          "output_type": "execute_result",
          "data": {
            "text/plain": [
              "[perceptron.adjustLeraningRate,\n",
              " perceptron.description,\n",
              " perceptron.formula,\n",
              " perceptron.isSOTA,\n",
              " perceptron.isSupervised,\n",
              " perceptron.label,\n",
              " perceptron.lang,\n",
              " perceptron.name,\n",
              " perceptron.sample,\n",
              " perceptron.synonym,\n",
              " perceptron.type,\n",
              " perceptron.actOn,\n",
              " perceptron.adjustParameter,\n",
              " perceptron.canExtract,\n",
              " perceptron.canGetData,\n",
              " perceptron.evaluatedBy,\n",
              " perceptron.excutes,\n",
              " perceptron.fit,\n",
              " perceptron.hasExample,\n",
              " perceptron.hasFormula,\n",
              " perceptron.hasHyperParameter,\n",
              " perceptron.hasInput,\n",
              " perceptron.hasLayer,\n",
              " perceptron.hasModel,\n",
              " perceptron.hasNext,\n",
              " perceptron.isPartOf,\n",
              " perceptron.learns,\n",
              " perceptron.produce,\n",
              " perceptron.solvedBy,\n",
              " perceptron.sufferFrom,\n",
              " perceptron.train,\n",
              " perceptron.useAlgoritm,\n",
              " perceptron.useFunction,\n",
              " perceptron.useOptimizer,\n",
              " perceptron.uses]"
            ]
          },
          "metadata": {},
          "execution_count": 6
        }
      ],
      "source": [
        "list(per.properties())"
      ]
    },
    {
      "cell_type": "code",
      "execution_count": 7,
      "id": "d5f4ea56",
      "metadata": {
        "colab": {
          "base_uri": "https://localhost:8080/"
        },
        "id": "d5f4ea56",
        "outputId": "b5fd3f3e-e783-40c6-99c6-a26b37e22957"
      },
      "outputs": [
        {
          "output_type": "execute_result",
          "data": {
            "text/plain": [
              "[[perceptron.Limitation, perceptron.actOn, perceptron.Parameter],\n",
              " [perceptron.Initializer, perceptron.adjustParameter, perceptron.Parameter],\n",
              " [perceptron.Optimizer, perceptron.adjustParameter, perceptron.Parameter],\n",
              " [perceptron.input, perceptron.canExtract, perceptron.Feature],\n",
              " [perceptron.input, perceptron.canGetData, perceptron.Dataset],\n",
              " [perceptron.Output, perceptron.evaluatedBy, perceptron.EvaluationMetric],\n",
              " [perceptron.Algorithm, perceptron.excutes, perceptron.Operator],\n",
              " [perceptron.Algorithm, perceptron.hasExample, perceptron.Task],\n",
              " [perceptron.Algorithm,\n",
              "  perceptron.hasHyperParameter,\n",
              "  perceptron.HyperParameter],\n",
              " [perceptron.EarlyStop,\n",
              "  perceptron.hasHyperParameter,\n",
              "  perceptron.HyperParameter],\n",
              " [perceptron.FeedForward,\n",
              "  perceptron.hasHyperParameter,\n",
              "  perceptron.HyperParameter],\n",
              " [perceptron.Initializer,\n",
              "  perceptron.hasHyperParameter,\n",
              "  perceptron.HyperParameter],\n",
              " [perceptron.Optimizer,\n",
              "  perceptron.hasHyperParameter,\n",
              "  perceptron.HyperParameter],\n",
              " [perceptron.Validator,\n",
              "  perceptron.hasHyperParameter,\n",
              "  perceptron.HyperParameter],\n",
              " [perceptron.Task, perceptron.hasInput, perceptron.input],\n",
              " [perceptron.Algorithm, perceptron.hasLayer, perceptron.Layer],\n",
              " [perceptron.Algorithm, perceptron.hasModel, perceptron.Model],\n",
              " [perceptron.EarlyStop, perceptron.hasNext, perceptron.EarlyStop],\n",
              " [perceptron.FeedForward, perceptron.hasNext, perceptron.EarlyStop],\n",
              " [perceptron.Initializer, perceptron.hasNext, perceptron.EarlyStop],\n",
              " [perceptron.Operator, perceptron.hasNext, perceptron.EarlyStop],\n",
              " [perceptron.Optimizer, perceptron.hasNext, perceptron.EarlyStop],\n",
              " [perceptron.Validator, perceptron.hasNext, perceptron.EarlyStop],\n",
              " [perceptron.EarlyStop, perceptron.hasNext, perceptron.FeedForward],\n",
              " [perceptron.FeedForward, perceptron.hasNext, perceptron.FeedForward],\n",
              " [perceptron.Initializer, perceptron.hasNext, perceptron.FeedForward],\n",
              " [perceptron.Operator, perceptron.hasNext, perceptron.FeedForward],\n",
              " [perceptron.Optimizer, perceptron.hasNext, perceptron.FeedForward],\n",
              " [perceptron.Validator, perceptron.hasNext, perceptron.FeedForward],\n",
              " [perceptron.EarlyStop, perceptron.hasNext, perceptron.Initializer],\n",
              " [perceptron.FeedForward, perceptron.hasNext, perceptron.Initializer],\n",
              " [perceptron.Initializer, perceptron.hasNext, perceptron.Initializer],\n",
              " [perceptron.Operator, perceptron.hasNext, perceptron.Initializer],\n",
              " [perceptron.Optimizer, perceptron.hasNext, perceptron.Initializer],\n",
              " [perceptron.Validator, perceptron.hasNext, perceptron.Initializer],\n",
              " [perceptron.EarlyStop, perceptron.hasNext, perceptron.Operator],\n",
              " [perceptron.FeedForward, perceptron.hasNext, perceptron.Operator],\n",
              " [perceptron.Initializer, perceptron.hasNext, perceptron.Operator],\n",
              " [perceptron.Operator, perceptron.hasNext, perceptron.Operator],\n",
              " [perceptron.Optimizer, perceptron.hasNext, perceptron.Operator],\n",
              " [perceptron.Validator, perceptron.hasNext, perceptron.Operator],\n",
              " [perceptron.EarlyStop, perceptron.hasNext, perceptron.Optimizer],\n",
              " [perceptron.FeedForward, perceptron.hasNext, perceptron.Optimizer],\n",
              " [perceptron.Initializer, perceptron.hasNext, perceptron.Optimizer],\n",
              " [perceptron.Operator, perceptron.hasNext, perceptron.Optimizer],\n",
              " [perceptron.Optimizer, perceptron.hasNext, perceptron.Optimizer],\n",
              " [perceptron.Validator, perceptron.hasNext, perceptron.Optimizer],\n",
              " [perceptron.EarlyStop, perceptron.hasNext, perceptron.Validator],\n",
              " [perceptron.FeedForward, perceptron.hasNext, perceptron.Validator],\n",
              " [perceptron.Initializer, perceptron.hasNext, perceptron.Validator],\n",
              " [perceptron.Operator, perceptron.hasNext, perceptron.Validator],\n",
              " [perceptron.Optimizer, perceptron.hasNext, perceptron.Validator],\n",
              " [perceptron.Validator, perceptron.hasNext, perceptron.Validator],\n",
              " [perceptron.Layer, perceptron.isPartOf, perceptron.Algorithm],\n",
              " [perceptron.Algorithm, perceptron.learns, perceptron.Parameter],\n",
              " [perceptron.Task, perceptron.produce, perceptron.Output],\n",
              " [perceptron.Limitation, perceptron.solvedBy, perceptron.Algorithm],\n",
              " [perceptron.Algorithm, perceptron.sufferFrom, perceptron.Limitation],\n",
              " [perceptron.Algorithm, perceptron.useAlgoritm, perceptron.Algorithm],\n",
              " [perceptron.Algorithm, perceptron.useFunction, perceptron.Function],\n",
              " [perceptron.EarlyStop, perceptron.useFunction, perceptron.Function],\n",
              " [perceptron.FeedForward, perceptron.useFunction, perceptron.Function],\n",
              " [perceptron.Initializer, perceptron.useFunction, perceptron.Function],\n",
              " [perceptron.Operator, perceptron.useFunction, perceptron.Function],\n",
              " [perceptron.Optimizer, perceptron.useFunction, perceptron.Function],\n",
              " [perceptron.Validator, perceptron.useFunction, perceptron.Function],\n",
              " [perceptron.Algorithm,\n",
              "  perceptron.useOptimizer,\n",
              "  perceptron.OptimizationAlgorithm],\n",
              " [perceptron.Task, perceptron.uses, perceptron.Algorithm]]"
            ]
          },
          "metadata": {},
          "execution_count": 7
        }
      ],
      "source": [
        "list(default_world.sparql(\"\"\"SELECT ?domain ?property ?range\n",
        "WHERE{  \n",
        "       ?property rdf:type owl:ObjectProperty .\n",
        "       ?property rdfs:range ?range .\n",
        "       ?property rdfs:domain ?domain\n",
        "     }\"\"\"))"
      ]
    },
    {
      "cell_type": "code",
      "execution_count": 8,
      "id": "ed9e4090",
      "metadata": {
        "colab": {
          "base_uri": "https://localhost:8080/"
        },
        "id": "ed9e4090",
        "outputId": "20046011-a208-4580-9fb3-1e3f0467db3b"
      },
      "outputs": [
        {
          "output_type": "execute_result",
          "data": {
            "text/plain": [
              "[[perceptron.Add],\n",
              " [perceptron.Algorithm],\n",
              " [perceptron.Dataset],\n",
              " [perceptron.Derviation],\n",
              " [perceptron.Div],\n",
              " [perceptron.EarlyStop],\n",
              " [perceptron.EvaluationMetric],\n",
              " [perceptron.Feature],\n",
              " [perceptron.FeedForward],\n",
              " [perceptron.Formula],\n",
              " [perceptron.Function],\n",
              " [perceptron.HyperParameter],\n",
              " [perceptron.Initializer],\n",
              " [perceptron.Layer],\n",
              " [perceptron.Limitation],\n",
              " [perceptron.Logarithm],\n",
              " [perceptron.Model],\n",
              " [perceptron.Mult],\n",
              " [perceptron.Operator],\n",
              " [perceptron.OptimizationAlgorithm],\n",
              " [perceptron.Optimizer],\n",
              " [perceptron.Output],\n",
              " [perceptron.Parameter],\n",
              " [perceptron.Power],\n",
              " [perceptron.Root],\n",
              " [perceptron.Sigma],\n",
              " [perceptron.Sub],\n",
              " [perceptron.Task],\n",
              " [perceptron.Validator],\n",
              " [perceptron.Value],\n",
              " [perceptron.input]]"
            ]
          },
          "metadata": {},
          "execution_count": 8
        }
      ],
      "source": [
        "list(default_world.sparql(\"\"\"SELECT  ?x\n",
        "WHERE { \n",
        "  ?x rdf:type owl:Class \n",
        "}\"\"\"))"
      ]
    },
    {
      "cell_type": "code",
      "execution_count": 19,
      "id": "cf97bf0a",
      "metadata": {
        "id": "cf97bf0a"
      },
      "outputs": [],
      "source": [
        "def getSentences(text):\n",
        "    en_nlp = spacy.load('en_core_web_sm')\n",
        "    document = en_nlp(text)\n",
        "    return [str(sent).strip() for sent in document.sents]\n",
        "\n",
        "def printToken(token):\n",
        "    print(token.text, \"->\", token.dep_)\n",
        "\n",
        "def appendChunk(original, chunk):\n",
        "    return original + ' ' + chunk\n",
        "\n",
        "def isRelationCandidate(token):\n",
        "    deps = [\"ROOT\", \"adj\", \"attr\", \"agent\", \"amod\"]\n",
        "    return any(subs in token.dep_ for subs in deps)\n",
        "\n",
        "def isConstructionCandidate(token):\n",
        "    deps = [\"compound\", \"prep\", \"conj\", \"mod\"]\n",
        "    return any(subs in token.dep_ for subs in deps)\n",
        "\n",
        "def processSubjectObjectPairs(tokens):\n",
        "    subject = ''\n",
        "    objectt = ''\n",
        "    relation = ''\n",
        "    subjectConstruction = ''\n",
        "    objectConstruction = ''\n",
        "    for token in tokens:\n",
        "        printToken(token)\n",
        "        if \"punct\" in token.dep_:\n",
        "            continue\n",
        "        if isRelationCandidate(token):\n",
        "            relation = appendChunk(relation, token.lemma_)\n",
        "        if isConstructionCandidate(token):\n",
        "            if subjectConstruction:\n",
        "                subjectConstruction = appendChunk(subjectConstruction, token.text)\n",
        "            if objectConstruction:\n",
        "                objectConstruction = appendChunk(objectConstruction, token.text)\n",
        "        if \"subj\" in token.dep_:\n",
        "            subject = appendChunk(subject, token.text)\n",
        "            subject = appendChunk(subjectConstruction, subject)\n",
        "            subjectConstruction = ''\n",
        "        if \"obj\" in token.dep_:\n",
        "            objectt = appendChunk(objectt, token.text)\n",
        "            objectt = appendChunk(objectConstruction, objectt)\n",
        "            objectConstruction = ''\n",
        "    \n",
        "    print ('subject', subject.strip())\n",
        "    print ('relation',relation.strip())\n",
        "    print (\"object\", objectt.strip())\n",
        "    return (subject.strip(), relation.strip(), objectt.strip())\n",
        "\n",
        "def processSentence(sentence):\n",
        "    tokens = nlp_model(sentence)\n",
        "    return processSubjectObjectPairs(tokens)\n",
        "\n",
        "def printGraph(triples):\n",
        "    G = nx.Graph()\n",
        "    for triple in triples:\n",
        "        G.add_node(triple[0])\n",
        "        G.add_node(triple[1])\n",
        "        G.add_node(triple[2])\n",
        "        G.add_edge(triple[0], triple[1])\n",
        "        G.add_edge(triple[1], triple[2])\n",
        "\n",
        "    pos = nx.spring_layout(G)\n",
        "    plt.figure()\n",
        "    nx.draw(G, pos, edge_color='black', width=1, linewidths=1,\n",
        "            node_size=500, node_color='seagreen', alpha=0.9,\n",
        "            labels={node: node for node in G.nodes()})\n",
        "    plt.axis('off')\n",
        "    plt.show()\n",
        "\n"
      ]
    },
    {
      "cell_type": "code",
      "execution_count": 27,
      "id": "d414f9e6",
      "metadata": {
        "colab": {
          "base_uri": "https://localhost:8080/"
        },
        "id": "d414f9e6",
        "outputId": "97bbc3b2-73f6-4a6a-a69b-6ca4c686c917"
      },
      "outputs": [
        {
          "output_type": "stream",
          "name": "stdout",
          "text": [
            "what is HyperParameter of MLP\n",
            "what -> attr\n",
            "is -> ROOT\n",
            "HyperParameter -> nsubj\n",
            "of -> prep\n",
            "MLP -> pobj\n",
            "subject HyperParameter\n",
            "relation what be\n",
            "object MLP\n"
          ]
        }
      ],
      "source": [
        "text = \"what is the HyperParameter of MLP\"\n",
        "\n",
        "sentences = getSentences(text)\n",
        "nlp_model = spacy.load('en_core_web_sm')\n",
        "\n",
        "triples = []\n",
        "print (text)\n",
        "for sentence in sentences:\n",
        "    triples.append(processSentence(sentence))\n",
        "\n",
        "#printGraph(triples)\n"
      ]
    },
    {
      "cell_type": "code",
      "execution_count": 28,
      "id": "17b2df8f",
      "metadata": {
        "id": "17b2df8f"
      },
      "outputs": [],
      "source": [
        "x = \" \"\n",
        "y = \" \"\n",
        "for i in triples:\n",
        "    x = i[1]\n",
        "    y = i[2]"
      ]
    },
    {
      "cell_type": "code",
      "execution_count": 29,
      "id": "8b996fb1",
      "metadata": {
        "id": "8b996fb1"
      },
      "outputs": [],
      "source": [
        "s = []\n",
        "cc = list(per.properties()) \n",
        "for i in cc:\n",
        "    s.append(i.name)"
      ]
    },
    {
      "cell_type": "code",
      "execution_count": 30,
      "id": "192171ad",
      "metadata": {
        "colab": {
          "base_uri": "https://localhost:8080/"
        },
        "id": "192171ad",
        "outputId": "243a848c-2f4a-49b8-ffff-871cf98d4413"
      },
      "outputs": [
        {
          "output_type": "stream",
          "name": "stdout",
          "text": [
            "evaluatedBy\n"
          ]
        }
      ],
      "source": [
        "from sklearn.feature_extraction.text import TfidfVectorizer\n",
        "from sklearn.metrics.pairwise import cosine_similarity\n",
        "import pandas as pd\n",
        "import numpy as np\n",
        "\n",
        "string = x\n",
        "string_list = s\n",
        "\n",
        "tfidf_vectorizer = TfidfVectorizer(analyzer=\"char\")\n",
        "\n",
        "sparse_matrix = tfidf_vectorizer.fit_transform([string]+string_list)\n",
        "cosine = cosine_similarity(sparse_matrix[0,:],sparse_matrix[1:,:])\n",
        "\n",
        "df = pd.DataFrame({'cosine':cosine[0],'strings':string_list}).sort_values('cosine',ascending=False)\n",
        "x = df['strings'].iloc[0]\n",
        "print(x)"
      ]
    },
    {
      "cell_type": "code",
      "source": [
        "list(default_world.sparql(\n",
        "\"\"\"\n",
        "   PREFIX custom:  <http://www.w3.org/ns/perceptron.owl#>\n",
        "\n",
        "   SELECT ?subject ?object\n",
        "\n",
        "   WHERE {?subject custom:hasHyperParameter ?object   \n",
        "        }\n",
        "\n",
        "\"\"\"))"
      ],
      "metadata": {
        "colab": {
          "base_uri": "https://localhost:8080/"
        },
        "id": "etIieH5Y_-nD",
        "outputId": "0024f616-1b99-4f9c-ac9a-70d3fc82d25e"
      },
      "id": "etIieH5Y_-nD",
      "execution_count": 34,
      "outputs": [
        {
          "output_type": "execute_result",
          "data": {
            "text/plain": [
              "[[perceptron.EarlyStop_validation_fraction,\n",
              "  perceptron.EarlyStop_validation_fraction],\n",
              " [perceptron.MLP, perceptron.LearningRate],\n",
              " [perceptron.MLP, perceptron.MaxIter],\n",
              " [perceptron.MLP, perceptron.RegularizationAlpha],\n",
              " [perceptron.MLP, perceptron.RegularizationType],\n",
              " [perceptron.MLP, perceptron.Tolerence],\n",
              " [perceptron.MLPEarlyStop, perceptron.EarlyStop_validation_fraction],\n",
              " [perceptron.MLPRandomInitializer, perceptron.RandomState],\n",
              " [perceptron.Perceptron, perceptron.LearningRate],\n",
              " [perceptron.Perceptron, perceptron.MaxIter],\n",
              " [perceptron.Perceptron, perceptron.Tolerence],\n",
              " [perceptron.PerceptronRandomInitializer, perceptron.RandomState]]"
            ]
          },
          "metadata": {},
          "execution_count": 34
        }
      ]
    },
    {
      "cell_type": "code",
      "source": [
        "relation = 'hasHyperParameter'\n",
        "objec ='Perceptron'\n",
        "list(default_world.sparql(\n",
        "\"\"\"\n",
        "    PREFIX custom:  <http://www.w3.org/ns/perceptron.owl#>\n",
        "    SELECT ?sender WHERE {\n",
        "     custom:%s custom:%s ?sender .\n",
        "    }\n",
        "\n",
        "\"\"\"%(objec,relation)))"
      ],
      "metadata": {
        "colab": {
          "base_uri": "https://localhost:8080/"
        },
        "id": "QNlDOOOLABwj",
        "outputId": "497a4527-3f81-41e6-e84e-8d5a4be49d9c"
      },
      "id": "QNlDOOOLABwj",
      "execution_count": 35,
      "outputs": [
        {
          "output_type": "execute_result",
          "data": {
            "text/plain": [
              "[[perceptron.LearningRate], [perceptron.MaxIter], [perceptron.Tolerence]]"
            ]
          },
          "metadata": {},
          "execution_count": 35
        }
      ]
    },
    {
      "cell_type": "code",
      "source": [
        "relation = 'hasHyperParameter'\n",
        "objec ='Perceptron'\n",
        "list(default_world.sparql(\n",
        "\"\"\"\n",
        "    PREFIX custom:  <http://www.w3.org/ns/perceptron.owl#>\n",
        "    SELECT ?sender ?relation WHERE {\n",
        "     custom:%s ?relation ?sender .\n",
        "    }\n",
        "\n",
        "\"\"\"%(objec)))"
      ],
      "metadata": {
        "colab": {
          "base_uri": "https://localhost:8080/"
        },
        "id": "RTBHzBRdAKGZ",
        "outputId": "afb59a2a-2038-409c-a4c3-8f3be67da4c9"
      },
      "id": "RTBHzBRdAKGZ",
      "execution_count": 36,
      "outputs": [
        {
          "output_type": "execute_result",
          "data": {
            "text/plain": [
              "[[owl.NamedIndividual, 6],\n",
              " [perceptron.Algorithm, 6],\n",
              " [perceptron.PerceptronRandomInitializer, perceptron.excutes],\n",
              " [perceptron.BinaryClassification, perceptron.hasExample],\n",
              " [perceptron.LearningRate, perceptron.hasHyperParameter],\n",
              " [perceptron.MaxIter, perceptron.hasHyperParameter],\n",
              " [perceptron.Tolerence, perceptron.hasHyperParameter],\n",
              " [perceptron.SingleLayer, perceptron.hasLayer],\n",
              " [perceptron.Bias, perceptron.learns],\n",
              " [weights-and-biases.Weight, perceptron.learns],\n",
              " [perceptron.NonLinearData, perceptron.sufferFrom],\n",
              " [perceptron.HingeLoss, perceptron.useFunction],\n",
              " [perceptron.LeakyReLUActivation, perceptron.useFunction],\n",
              " [perceptron.LinearActivation, perceptron.useFunction],\n",
              " [perceptron.ReLUActivation, perceptron.useFunction],\n",
              " [perceptron.StepActivation, perceptron.useFunction],\n",
              " [.SGD, perceptron.useOptimizer],\n",
              " [.SGDwithMomentum, perceptron.useOptimizer],\n",
              " [True, perceptron.isSupervised],\n",
              " ['perceptron', perceptron.name],\n",
              " ['activation', perceptron.synonym],\n",
              " ['neuron', perceptron.synonym]]"
            ]
          },
          "metadata": {},
          "execution_count": 36
        }
      ]
    },
    {
      "cell_type": "code",
      "execution_count": 31,
      "id": "85dce2ec",
      "metadata": {
        "id": "85dce2ec"
      },
      "outputs": [],
      "source": [
        "relation = x\n",
        "objec = y\n",
        "xx =list(default_world.sparql(\n",
        "\"\"\"\n",
        "    PREFIX custom:  <http://www.w3.org/ns/perceptron.owl#>\n",
        "    SELECT ?sender WHERE {\n",
        "     custom:%s custom:%s ?sender .\n",
        "    }\n",
        "\n",
        "\"\"\"%(objec,relation)))\n"
      ]
    },
    {
      "cell_type": "code",
      "execution_count": 33,
      "id": "fae93e91",
      "metadata": {
        "colab": {
          "base_uri": "https://localhost:8080/"
        },
        "id": "fae93e91",
        "outputId": "6527588c-d201-4789-afe8-fdd638ec760c"
      },
      "outputs": [
        {
          "output_type": "stream",
          "name": "stdout",
          "text": [
            "the MLP evaluatedBy its \n"
          ]
        }
      ],
      "source": [
        "s = []\n",
        "ss =' and '\n",
        "for i in xx:\n",
        "    for z in i:\n",
        "        s.append(z.name)\n",
        "\n",
        "mylist = list(dict.fromkeys(s))\n",
        "ss = ss.join(mylist)\n",
        "su = objec\n",
        "re = relation\n",
        "q = \"the \" + su + \" \" + re + \" its \"+ ss\n",
        "print(q)"
      ]
    }
  ],
  "metadata": {
    "kernelspec": {
      "display_name": "Python 3 (ipykernel)",
      "language": "python",
      "name": "python3"
    },
    "language_info": {
      "codemirror_mode": {
        "name": "ipython",
        "version": 3
      },
      "file_extension": ".py",
      "mimetype": "text/x-python",
      "name": "python",
      "nbconvert_exporter": "python",
      "pygments_lexer": "ipython3",
      "version": "3.9.0"
    },
    "colab": {
      "name": "ontoloi.pynb",
      "provenance": [],
      "include_colab_link": true
    }
  },
  "nbformat": 4,
  "nbformat_minor": 5
}